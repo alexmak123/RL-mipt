{
  "cells": [
    {
      "cell_type": "markdown",
      "metadata": {
        "id": "F8mnEfZMREj8"
      },
      "source": [
        "# Глубокий кросс-энтропийный метод\n",
        "\n",
        "#### дедлайн задания: 19 марта, 23:59 GMT+3\n",
        "\n",
        "В данной работе будет рассмотрено обобщение кросс-энтропийного метода на случай параметризации агента с помощью нейросети. Перед вами будет поставлена задача обучить многослойную нейронную сеть для решения простых игр в непрерывных пространствах состояний."
      ]
    },
    {
      "cell_type": "markdown",
      "metadata": {
        "id": "VKRkl1JeREj-"
      },
      "source": [
        "# Работа выполнена: ФИО, номер группы.\n",
        "Макарчук Алексей Игоревич Б05-903в"
      ]
    },
    {
      "cell_type": "code",
      "execution_count": 1,
      "metadata": {
        "colab": {
          "base_uri": "https://localhost:8080/"
        },
        "id": "GJP0IjQyREj-",
        "outputId": "00fbf4ad-81b9-49e1-989b-b0466bcf776e"
      },
      "outputs": [
        {
          "output_type": "stream",
          "name": "stdout",
          "text": [
            "Reading package lists... Done\n",
            "Building dependency tree       \n",
            "Reading state information... Done\n",
            "Package libav-tools is not available, but is referred to by another package.\n",
            "This may mean that the package is missing, has been obsoleted, or\n",
            "is only available from another source\n",
            "However the following packages replace it:\n",
            "  ffmpeg\n",
            "\n",
            "E: Package 'libav-tools' has no installation candidate\n",
            "Looking in indexes: https://pypi.org/simple, https://us-python.pkg.dev/colab-wheels/public/simple/\n",
            "Collecting piglet\n",
            "  Downloading piglet-1.0.0-py2.py3-none-any.whl (2.2 kB)\n",
            "Collecting pyvirtualdisplay\n",
            "  Downloading PyVirtualDisplay-3.0-py3-none-any.whl (15 kB)\n",
            "Collecting gym[all]==0.18.3\n",
            "  Downloading gym-0.18.3.tar.gz (1.6 MB)\n",
            "\u001b[2K     \u001b[90m━━━━━━━━━━━━━━━━━━━━━━━━━━━━━━━━━━━━━━━━\u001b[0m \u001b[32m1.6/1.6 MB\u001b[0m \u001b[31m42.2 MB/s\u001b[0m eta \u001b[36m0:00:00\u001b[0m\n",
            "\u001b[?25h  Preparing metadata (setup.py) ... \u001b[?25l\u001b[?25hdone\n",
            "Requirement already satisfied: scipy in /usr/local/lib/python3.9/dist-packages (from gym[all]==0.18.3) (1.10.1)\n",
            "Requirement already satisfied: numpy>=1.10.4 in /usr/local/lib/python3.9/dist-packages (from gym[all]==0.18.3) (1.22.4)\n",
            "Collecting pyglet<=1.5.15,>=1.4.0\n",
            "  Downloading pyglet-1.5.15-py3-none-any.whl (1.1 MB)\n",
            "\u001b[2K     \u001b[90m━━━━━━━━━━━━━━━━━━━━━━━━━━━━━━━━━━━━━━━━\u001b[0m \u001b[32m1.1/1.1 MB\u001b[0m \u001b[31m40.1 MB/s\u001b[0m eta \u001b[36m0:00:00\u001b[0m\n",
            "\u001b[?25hCollecting Pillow<=8.2.0\n",
            "  Downloading Pillow-8.2.0-cp39-cp39-manylinux1_x86_64.whl (3.0 MB)\n",
            "\u001b[2K     \u001b[90m━━━━━━━━━━━━━━━━━━━━━━━━━━━━━━━━━━━━━━━━\u001b[0m \u001b[32m3.0/3.0 MB\u001b[0m \u001b[31m72.1 MB/s\u001b[0m eta \u001b[36m0:00:00\u001b[0m\n",
            "\u001b[?25hCollecting cloudpickle<1.7.0,>=1.2.0\n",
            "  Downloading cloudpickle-1.6.0-py3-none-any.whl (23 kB)\n",
            "Collecting mujoco_py<2.0,>=1.50\n",
            "  Downloading mujoco-py-1.50.1.68.tar.gz (120 kB)\n",
            "\u001b[2K     \u001b[90m━━━━━━━━━━━━━━━━━━━━━━━━━━━━━━━━━━━━━━\u001b[0m \u001b[32m120.7/120.7 KB\u001b[0m \u001b[31m18.5 MB/s\u001b[0m eta \u001b[36m0:00:00\u001b[0m\n",
            "\u001b[?25h  Preparing metadata (setup.py) ... \u001b[?25l\u001b[?25hdone\n",
            "Collecting atari_py~=0.2.0\n",
            "  Downloading atari_py-0.2.9-cp39-cp39-manylinux_2_17_x86_64.manylinux2014_x86_64.whl (2.8 MB)\n",
            "\u001b[2K     \u001b[90m━━━━━━━━━━━━━━━━━━━━━━━━━━━━━━━━━━━━━━━━\u001b[0m \u001b[32m2.8/2.8 MB\u001b[0m \u001b[31m79.4 MB/s\u001b[0m eta \u001b[36m0:00:00\u001b[0m\n",
            "\u001b[?25hRequirement already satisfied: imageio in /usr/local/lib/python3.9/dist-packages (from gym[all]==0.18.3) (2.9.0)\n",
            "Requirement already satisfied: opencv-python>=3. in /usr/local/lib/python3.9/dist-packages (from gym[all]==0.18.3) (4.6.0.66)\n",
            "Collecting box2d-py~=2.3.5\n",
            "  Downloading box2d-py-2.3.8.tar.gz (374 kB)\n",
            "\u001b[2K     \u001b[90m━━━━━━━━━━━━━━━━━━━━━━━━━━━━━━━━━━━━━━\u001b[0m \u001b[32m374.5/374.5 KB\u001b[0m \u001b[31m39.8 MB/s\u001b[0m eta \u001b[36m0:00:00\u001b[0m\n",
            "\u001b[?25h  Preparing metadata (setup.py) ... \u001b[?25l\u001b[?25hdone\n",
            "Collecting piglet-templates\n",
            "  Downloading piglet_templates-1.3.0-py3-none-any.whl (67 kB)\n",
            "\u001b[2K     \u001b[90m━━━━━━━━━━━━━━━━━━━━━━━━━━━━━━━━━━━━━━━━\u001b[0m \u001b[32m67.5/67.5 KB\u001b[0m \u001b[31m8.6 MB/s\u001b[0m eta \u001b[36m0:00:00\u001b[0m\n",
            "\u001b[?25hRequirement already satisfied: six in /usr/local/lib/python3.9/dist-packages (from atari_py~=0.2.0->gym[all]==0.18.3) (1.15.0)\n",
            "Collecting glfw>=1.4.0\n",
            "  Downloading glfw-2.5.7-py2.py27.py3.py30.py31.py32.py33.py34.py35.py36.py37.py38-none-manylinux2014_x86_64.whl (207 kB)\n",
            "\u001b[2K     \u001b[90m━━━━━━━━━━━━━━━━━━━━━━━━━━━━━━━━━━━━━━\u001b[0m \u001b[32m207.7/207.7 KB\u001b[0m \u001b[31m27.2 MB/s\u001b[0m eta \u001b[36m0:00:00\u001b[0m\n",
            "\u001b[?25hRequirement already satisfied: Cython>=0.27.2 in /usr/local/lib/python3.9/dist-packages (from mujoco_py<2.0,>=1.50->gym[all]==0.18.3) (0.29.33)\n",
            "Requirement already satisfied: cffi>=1.10 in /usr/local/lib/python3.9/dist-packages (from mujoco_py<2.0,>=1.50->gym[all]==0.18.3) (1.15.1)\n",
            "Collecting lockfile>=0.12.2\n",
            "  Downloading lockfile-0.12.2-py2.py3-none-any.whl (13 kB)\n",
            "Requirement already satisfied: pyparsing in /usr/local/lib/python3.9/dist-packages (from piglet-templates->piglet) (3.0.9)\n",
            "Requirement already satisfied: attrs in /usr/local/lib/python3.9/dist-packages (from piglet-templates->piglet) (22.2.0)\n",
            "Requirement already satisfied: markupsafe in /usr/local/lib/python3.9/dist-packages (from piglet-templates->piglet) (2.1.2)\n",
            "Requirement already satisfied: astunparse in /usr/local/lib/python3.9/dist-packages (from piglet-templates->piglet) (1.6.3)\n",
            "Requirement already satisfied: pycparser in /usr/local/lib/python3.9/dist-packages (from cffi>=1.10->mujoco_py<2.0,>=1.50->gym[all]==0.18.3) (2.21)\n",
            "Requirement already satisfied: wheel<1.0,>=0.23.0 in /usr/local/lib/python3.9/dist-packages (from astunparse->piglet-templates->piglet) (0.40.0)\n",
            "Building wheels for collected packages: box2d-py, mujoco_py, gym\n",
            "  \u001b[1;31merror\u001b[0m: \u001b[1msubprocess-exited-with-error\u001b[0m\n",
            "  \n",
            "  \u001b[31m×\u001b[0m \u001b[32mpython setup.py bdist_wheel\u001b[0m did not run successfully.\n",
            "  \u001b[31m│\u001b[0m exit code: \u001b[1;36m1\u001b[0m\n",
            "  \u001b[31m╰─>\u001b[0m See above for output.\n",
            "  \n",
            "  \u001b[1;35mnote\u001b[0m: This error originates from a subprocess, and is likely not a problem with pip.\n",
            "  Building wheel for box2d-py (setup.py) ... \u001b[?25lerror\n",
            "\u001b[31m  ERROR: Failed building wheel for box2d-py\u001b[0m\u001b[31m\n",
            "\u001b[0m\u001b[?25h  Running setup.py clean for box2d-py\n",
            "  \u001b[1;31merror\u001b[0m: \u001b[1msubprocess-exited-with-error\u001b[0m\n",
            "  \n",
            "  \u001b[31m×\u001b[0m \u001b[32mpython setup.py bdist_wheel\u001b[0m did not run successfully.\n",
            "  \u001b[31m│\u001b[0m exit code: \u001b[1;36m1\u001b[0m\n",
            "  \u001b[31m╰─>\u001b[0m See above for output.\n",
            "  \n",
            "  \u001b[1;35mnote\u001b[0m: This error originates from a subprocess, and is likely not a problem with pip.\n",
            "  Building wheel for mujoco_py (setup.py) ... \u001b[?25lerror\n",
            "\u001b[31m  ERROR: Failed building wheel for mujoco_py\u001b[0m\u001b[31m\n",
            "\u001b[0m\u001b[?25h  Running setup.py clean for mujoco_py\n",
            "  \u001b[1;31merror\u001b[0m: \u001b[1msubprocess-exited-with-error\u001b[0m\n",
            "  \n",
            "  \u001b[31m×\u001b[0m \u001b[32mpython setup.py bdist_wheel\u001b[0m did not run successfully.\n",
            "  \u001b[31m│\u001b[0m exit code: \u001b[1;36m1\u001b[0m\n",
            "  \u001b[31m╰─>\u001b[0m See above for output.\n",
            "  \n",
            "  \u001b[1;35mnote\u001b[0m: This error originates from a subprocess, and is likely not a problem with pip.\n",
            "  Building wheel for gym (setup.py) ... \u001b[?25lerror\n",
            "\u001b[31m  ERROR: Failed building wheel for gym\u001b[0m\u001b[31m\n",
            "\u001b[0m\u001b[?25h  Running setup.py clean for gym\n",
            "Failed to build box2d-py mujoco_py gym\n",
            "Installing collected packages: pyvirtualdisplay, pyglet, lockfile, glfw, box2d-py, Pillow, cloudpickle, atari_py, piglet-templates, gym, piglet, mujoco_py\n",
            "  \u001b[1;31merror\u001b[0m: \u001b[1msubprocess-exited-with-error\u001b[0m\n",
            "  \n",
            "  \u001b[31m×\u001b[0m \u001b[32mRunning setup.py install for box2d-py\u001b[0m did not run successfully.\n",
            "  \u001b[31m│\u001b[0m exit code: \u001b[1;36m1\u001b[0m\n",
            "  \u001b[31m╰─>\u001b[0m See above for output.\n",
            "  \n",
            "  \u001b[1;35mnote\u001b[0m: This error originates from a subprocess, and is likely not a problem with pip.\n",
            "  Running setup.py install for box2d-py ... \u001b[?25l\u001b[?25herror\n",
            "\u001b[1;31merror\u001b[0m: \u001b[1mlegacy-install-failure\u001b[0m\n",
            "\n",
            "\u001b[31m×\u001b[0m Encountered error while trying to install package.\n",
            "\u001b[31m╰─>\u001b[0m box2d-py\n",
            "\n",
            "\u001b[1;35mnote\u001b[0m: This is an issue with the package mentioned above, not pip.\n",
            "\u001b[1;36mhint\u001b[0m: See above for output from the failure.\n"
          ]
        }
      ],
      "source": [
        "# Для корректной работы ноутбука может понадобиться исполнение следующих команд\n",
        "# (инструкция для Unix-подобных систем):\n",
        "!apt-get install -y xvfb x11-utils ffmpeg libav-tools python-opengl\n",
        "!pip install piglet pyvirtualdisplay gym[all]==0.18.3"
      ]
    },
    {
      "cell_type": "code",
      "execution_count": 2,
      "metadata": {
        "id": "Sj9i7z6uREj_",
        "colab": {
          "base_uri": "https://localhost:8080/"
        },
        "outputId": "88faf2b4-2f53-4d4a-bcf6-29bb7fd54762"
      },
      "outputs": [
        {
          "output_type": "stream",
          "name": "stdout",
          "text": [
            "--2023-03-19 15:23:17--  https://bit.ly/2FMJP5K\n",
            "Resolving bit.ly (bit.ly)... 67.199.248.10, 67.199.248.11\n",
            "Connecting to bit.ly (bit.ly)|67.199.248.10|:443... connected.\n",
            "HTTP request sent, awaiting response... 301 Moved Permanently\n",
            "Location: https://raw.githubusercontent.com/yandexdataschool/Practical_RL/spring19/setup_colab.sh [following]\n",
            "--2023-03-19 15:23:17--  https://raw.githubusercontent.com/yandexdataschool/Practical_RL/spring19/setup_colab.sh\n",
            "Resolving raw.githubusercontent.com (raw.githubusercontent.com)... 185.199.108.133, 185.199.109.133, 185.199.110.133, ...\n",
            "Connecting to raw.githubusercontent.com (raw.githubusercontent.com)|185.199.108.133|:443... connected.\n",
            "HTTP request sent, awaiting response... 200 OK\n",
            "Length: 262 [text/plain]\n",
            "Saving to: ‘setup.py’\n",
            "\n",
            "setup.py            100%[===================>]     262  --.-KB/s    in 0s      \n",
            "\n",
            "2023-03-19 15:23:17 (15.5 MB/s) - ‘setup.py’ saved [262/262]\n",
            "\n",
            "Looking in indexes: https://pypi.org/simple, https://us-python.pkg.dev/colab-wheels/public/simple/\n",
            "Requirement already satisfied: gym in /usr/local/lib/python3.9/dist-packages (0.25.2)\n",
            "Requirement already satisfied: numpy>=1.18.0 in /usr/local/lib/python3.9/dist-packages (from gym) (1.22.4)\n",
            "Requirement already satisfied: importlib-metadata>=4.8.0 in /usr/local/lib/python3.9/dist-packages (from gym) (6.0.0)\n",
            "Requirement already satisfied: cloudpickle>=1.2.0 in /usr/local/lib/python3.9/dist-packages (from gym) (2.2.1)\n",
            "Requirement already satisfied: gym-notices>=0.0.4 in /usr/local/lib/python3.9/dist-packages (from gym) (0.0.8)\n",
            "Requirement already satisfied: zipp>=0.5 in /usr/local/lib/python3.9/dist-packages (from importlib-metadata>=4.8.0->gym) (3.15.0)\n",
            "Reading package lists... Done\n",
            "Building dependency tree       \n",
            "Reading state information... Done\n",
            "The following NEW packages will be installed:\n",
            "  xvfb\n",
            "0 upgraded, 1 newly installed, 0 to remove and 23 not upgraded.\n",
            "Need to get 780 kB of archives.\n",
            "After this operation, 2,271 kB of additional disk space will be used.\n",
            "Get:1 http://archive.ubuntu.com/ubuntu focal-updates/universe amd64 xvfb amd64 2:1.20.13-1ubuntu1~20.04.6 [780 kB]\n",
            "Fetched 780 kB in 2s (464 kB/s)\n",
            "Selecting previously unselected package xvfb.\n",
            "(Reading database ... 128276 files and directories currently installed.)\n",
            "Preparing to unpack .../xvfb_2%3a1.20.13-1ubuntu1~20.04.6_amd64.deb ...\n",
            "Unpacking xvfb (2:1.20.13-1ubuntu1~20.04.6) ...\n",
            "Setting up xvfb (2:1.20.13-1ubuntu1~20.04.6) ...\n",
            "Processing triggers for man-db (2.9.1-1) ...\n",
            "--2023-03-19 15:23:29--  https://raw.githubusercontent.com/yandexdataschool/Practical_DL/fall18/xvfb\n",
            "Resolving raw.githubusercontent.com (raw.githubusercontent.com)... 185.199.110.133, 185.199.108.133, 185.199.109.133, ...\n",
            "Connecting to raw.githubusercontent.com (raw.githubusercontent.com)|185.199.110.133|:443... connected.\n",
            "HTTP request sent, awaiting response... 200 OK\n",
            "Length: 640 [text/plain]\n",
            "Saving to: ‘../xvfb’\n",
            "\n",
            "../xvfb             100%[===================>]     640  --.-KB/s    in 0s      \n",
            "\n",
            "2023-03-19 15:23:29 (32.1 MB/s) - ‘../xvfb’ saved [640/640]\n",
            "\n",
            "Reading package lists... Done\n",
            "Building dependency tree       \n",
            "Reading state information... Done\n",
            "ffmpeg is already the newest version (7:4.2.7-0ubuntu0.1).\n",
            "The following additional packages will be installed:\n",
            "  freeglut3 libpython2-stdlib python2 python2-minimal\n",
            "Suggested packages:\n",
            "  python-tk python-numpy libgle3 python2-doc\n",
            "The following NEW packages will be installed:\n",
            "  freeglut3 libpython2-stdlib python-opengl python2 python2-minimal\n",
            "0 upgraded, 5 newly installed, 0 to remove and 23 not upgraded.\n",
            "Need to get 621 kB of archives.\n",
            "After this operation, 6,059 kB of additional disk space will be used.\n",
            "Get:1 http://archive.ubuntu.com/ubuntu focal/universe amd64 python2-minimal amd64 2.7.17-2ubuntu4 [27.5 kB]\n",
            "Get:2 http://archive.ubuntu.com/ubuntu focal/universe amd64 libpython2-stdlib amd64 2.7.17-2ubuntu4 [7,072 B]\n",
            "Get:3 http://archive.ubuntu.com/ubuntu focal/universe amd64 python2 amd64 2.7.17-2ubuntu4 [26.5 kB]\n",
            "Get:4 http://archive.ubuntu.com/ubuntu focal/universe amd64 freeglut3 amd64 2.8.1-3 [73.6 kB]\n",
            "Get:5 http://archive.ubuntu.com/ubuntu focal/universe amd64 python-opengl all 3.1.0+dfsg-2build1 [486 kB]\n",
            "Fetched 621 kB in 2s (403 kB/s)\n",
            "Selecting previously unselected package python2-minimal.\n",
            "(Reading database ... 128283 files and directories currently installed.)\n",
            "Preparing to unpack .../python2-minimal_2.7.17-2ubuntu4_amd64.deb ...\n",
            "Unpacking python2-minimal (2.7.17-2ubuntu4) ...\n",
            "Selecting previously unselected package libpython2-stdlib:amd64.\n",
            "Preparing to unpack .../libpython2-stdlib_2.7.17-2ubuntu4_amd64.deb ...\n",
            "Unpacking libpython2-stdlib:amd64 (2.7.17-2ubuntu4) ...\n",
            "Setting up python2-minimal (2.7.17-2ubuntu4) ...\n",
            "Selecting previously unselected package python2.\n",
            "(Reading database ... 128312 files and directories currently installed.)\n",
            "Preparing to unpack .../python2_2.7.17-2ubuntu4_amd64.deb ...\n",
            "Unpacking python2 (2.7.17-2ubuntu4) ...\n",
            "Selecting previously unselected package freeglut3:amd64.\n",
            "Preparing to unpack .../freeglut3_2.8.1-3_amd64.deb ...\n",
            "Unpacking freeglut3:amd64 (2.8.1-3) ...\n",
            "Selecting previously unselected package python-opengl.\n",
            "Preparing to unpack .../python-opengl_3.1.0+dfsg-2build1_all.deb ...\n",
            "Unpacking python-opengl (3.1.0+dfsg-2build1) ...\n",
            "Setting up freeglut3:amd64 (2.8.1-3) ...\n",
            "Setting up libpython2-stdlib:amd64 (2.7.17-2ubuntu4) ...\n",
            "Setting up python2 (2.7.17-2ubuntu4) ...\n",
            "Setting up python-opengl (3.1.0+dfsg-2build1) ...\n",
            "Processing triggers for man-db (2.9.1-1) ...\n",
            "Processing triggers for libc-bin (2.31-0ubuntu9.9) ...\n",
            "Looking in indexes: https://pypi.org/simple, https://us-python.pkg.dev/colab-wheels/public/simple/\n",
            "Collecting pyglet==1.2.4\n",
            "  Downloading pyglet-1.2.4-py3-none-any.whl (964 kB)\n",
            "\u001b[2K     \u001b[90m━━━━━━━━━━━━━━━━━━━━━━━━━━━━━━━━━━━━━━\u001b[0m \u001b[32m964.6/964.6 KB\u001b[0m \u001b[31m43.5 MB/s\u001b[0m eta \u001b[36m0:00:00\u001b[0m\n",
            "\u001b[?25hInstalling collected packages: pyglet\n",
            "  Attempting uninstall: pyglet\n",
            "    Found existing installation: pyglet 1.5.15\n",
            "    Uninstalling pyglet-1.5.15:\n",
            "      Successfully uninstalled pyglet-1.5.15\n",
            "Successfully installed pyglet-1.2.4\n",
            "Looking in indexes: https://pypi.org/simple, https://us-python.pkg.dev/colab-wheels/public/simple/\n",
            "Collecting gym[classic_control]==0.18.3\n",
            "  Using cached gym-0.18.3.tar.gz (1.6 MB)\n",
            "  Preparing metadata (setup.py) ... \u001b[?25l\u001b[?25hdone\n",
            "Requirement already satisfied: scipy in /usr/local/lib/python3.9/dist-packages (from gym[classic_control]==0.18.3) (1.10.1)\n",
            "Requirement already satisfied: numpy>=1.10.4 in /usr/local/lib/python3.9/dist-packages (from gym[classic_control]==0.18.3) (1.22.4)\n",
            "Collecting pyglet<=1.5.15,>=1.4.0\n",
            "  Using cached pyglet-1.5.15-py3-none-any.whl (1.1 MB)\n",
            "Collecting Pillow<=8.2.0\n",
            "  Using cached Pillow-8.2.0-cp39-cp39-manylinux1_x86_64.whl (3.0 MB)\n",
            "Collecting cloudpickle<1.7.0,>=1.2.0\n",
            "  Using cached cloudpickle-1.6.0-py3-none-any.whl (23 kB)\n",
            "Building wheels for collected packages: gym\n",
            "  \u001b[1;31merror\u001b[0m: \u001b[1msubprocess-exited-with-error\u001b[0m\n",
            "  \n",
            "  \u001b[31m×\u001b[0m \u001b[32mpython setup.py bdist_wheel\u001b[0m did not run successfully.\n",
            "  \u001b[31m│\u001b[0m exit code: \u001b[1;36m1\u001b[0m\n",
            "  \u001b[31m╰─>\u001b[0m See above for output.\n",
            "  \n",
            "  \u001b[1;35mnote\u001b[0m: This error originates from a subprocess, and is likely not a problem with pip.\n",
            "  Building wheel for gym (setup.py) ... \u001b[?25lerror\n",
            "\u001b[31m  ERROR: Failed building wheel for gym\u001b[0m\u001b[31m\n",
            "\u001b[0m\u001b[?25h  Running setup.py clean for gym\n",
            "Failed to build gym\n",
            "Installing collected packages: pyglet, Pillow, cloudpickle, gym\n",
            "  Attempting uninstall: pyglet\n",
            "    Found existing installation: pyglet 1.2.4\n",
            "    Uninstalling pyglet-1.2.4:\n",
            "      Successfully uninstalled pyglet-1.2.4\n",
            "  Attempting uninstall: Pillow\n",
            "    Found existing installation: Pillow 8.4.0\n",
            "    Uninstalling Pillow-8.4.0:\n",
            "      Successfully uninstalled Pillow-8.4.0\n",
            "  Attempting uninstall: cloudpickle\n",
            "    Found existing installation: cloudpickle 2.2.1\n",
            "    Uninstalling cloudpickle-2.2.1:\n",
            "      Successfully uninstalled cloudpickle-2.2.1\n",
            "  Attempting uninstall: gym\n",
            "    Found existing installation: gym 0.25.2\n",
            "    Uninstalling gym-0.25.2:\n",
            "      Successfully uninstalled gym-0.25.2\n",
            "  Running setup.py install for gym ... \u001b[?25l\u001b[?25hdone\n",
            "\u001b[33m  DEPRECATION: gym was installed using the legacy 'setup.py install' method, because a wheel could not be built for it. A possible replacement is to fix the wheel build issue reported above. Discussion can be found at https://github.com/pypa/pip/issues/8368\u001b[0m\u001b[33m\n",
            "\u001b[0mSuccessfully installed Pillow-8.2.0 cloudpickle-1.6.0 gym-0.18.3 pyglet-1.5.15\n",
            "Starting virtual X frame buffer: Xvfb.\n"
          ]
        }
      ],
      "source": [
        "# В Google Colab раскомментируйте это:\n",
        "!wget https://bit.ly/2FMJP5K -O setup.py && bash setup.py\n",
        "!pip install --upgrade gym[classic_control]==0.18.3\n",
        "\n",
        "# XVFB будет запущен в случае исполнения на сервере\n",
        "import os\n",
        "if type(os.environ.get(\"DISPLAY\")) is not str or len(os.environ.get(\"DISPLAY\")) == 0:\n",
        "    !bash ../xvfb start\n",
        "    os.environ['DISPLAY'] = ':1'"
      ]
    },
    {
      "cell_type": "code",
      "execution_count": 3,
      "metadata": {
        "id": "SxeD8T4MREj_",
        "colab": {
          "base_uri": "https://localhost:8080/",
          "height": 308
        },
        "outputId": "86fe7ce8-24b5-485e-fc90-7a7a2570fe69"
      },
      "outputs": [
        {
          "output_type": "stream",
          "name": "stdout",
          "text": [
            "размерность вектора состояний dim = 4\n",
            "n_actions = 2\n"
          ]
        },
        {
          "output_type": "display_data",
          "data": {
            "text/plain": [
              "<Figure size 432x288 with 1 Axes>"
            ],
            "image/png": "[encoded data removed]"
          },
          "metadata": {}
        }
      ],
      "source": [
        "import gym\n",
        "import numpy as np\n",
        "import matplotlib.pyplot as plt\n",
        "%matplotlib inline\n",
        "import seaborn as sns\n",
        "sns.set(font_scale=1.)\n",
        "\n",
        "# если есть вывод \"<classname> has no attribute .env\", удалите .env или обновите gym\n",
        "env = gym.make(\"CartPole-v1\").env\n",
        "\n",
        "env.reset()\n",
        "n_actions = env.action_space.n\n",
        "state_dim = env.observation_space.shape[0]\n",
        "\n",
        "plt.imshow(env.render(\"rgb_array\"))\n",
        "print(\"размерность вектора состояний dim =\", state_dim)\n",
        "print(\"n_actions =\", n_actions)\n",
        "\n",
        "env.close()"
      ]
    },
    {
      "cell_type": "code",
      "execution_count": 4,
      "metadata": {
        "id": "yM8BDfUOREkA",
        "colab": {
          "base_uri": "https://localhost:8080/"
        },
        "outputId": "b8d52e50-afb0-403c-9c64-ad6e05fc9e64"
      },
      "outputs": [
        {
          "output_type": "execute_result",
          "data": {
            "text/plain": [
              "(Box(-3.4028234663852886e+38, 3.4028234663852886e+38, (4,), float32),\n",
              " Discrete(2))"
            ]
          },
          "metadata": {},
          "execution_count": 4
        }
      ],
      "source": [
        "env.observation_space, env.action_space"
      ]
    },
    {
      "cell_type": "markdown",
      "metadata": {
        "id": "_4m0ZfpYREkA"
      },
      "source": [
        "# Нейросетевая политика, основная задача (10 баллов)\n",
        "\n",
        "Для текущей задачи будет использована упрощённая нейронная сеть, реализованная в библиотеке __[Scikit-learn](https://scikit-learn.org/stable/modules/generated/sklearn.neural_network.MLPClassifier.html)__. Что для решения задачи понадобится:\n",
        "\n",
        "* `agent.partial_fit(states, actions)` - выполнение одного прохода (одной эпохи) по данным для настройки параметров. В ходе вызова данного метода происходит приближённая максимизация вероятности :actions: при условии :states:\n",
        "* `agent.predict_proba(states)` - оценка вероятностей всех действий, матрица формы __[len(states), n_actions]__\n"
      ]
    },
    {
      "cell_type": "code",
      "execution_count": 5,
      "metadata": {
        "id": "3irSTzN-REkA",
        "colab": {
          "base_uri": "https://localhost:8080/",
          "height": 75
        },
        "outputId": "ce701e21-7ba6-4d4b-d87e-cfa127447be9"
      },
      "outputs": [
        {
          "output_type": "execute_result",
          "data": {
            "text/plain": [
              "MLPClassifier(activation='tanh', hidden_layer_sizes=(20, 20))"
            ],
            "text/html": [
              "<style>#sk-container-id-1 {color: black;background-color: white;}#sk-container-id-1 pre{padding: 0;}#sk-container-id-1 div.sk-toggleable {background-color: white;}#sk-container-id-1 label.sk-toggleable__label {cursor: pointer;display: block;width: 100%;margin-bottom: 0;padding: 0.3em;box-sizing: border-box;text-align: center;}#sk-container-id-1 label.sk-toggleable__label-arrow:before {content: \"▸\";float: left;margin-right: 0.25em;color: #696969;}#sk-container-id-1 label.sk-toggleable__label-arrow:hover:before {color: black;}#sk-container-id-1 div.sk-estimator:hover label.sk-toggleable__label-arrow:before {color: black;}#sk-container-id-1 div.sk-toggleable__content {max-height: 0;max-width: 0;overflow: hidden;text-align: left;background-color: #f0f8ff;}#sk-container-id-1 div.sk-toggleable__content pre {margin: 0.2em;color: black;border-radius: 0.25em;background-color: #f0f8ff;}#sk-container-id-1 input.sk-toggleable__control:checked~div.sk-toggleable__content {max-height: 200px;max-width: 100%;overflow: auto;}#sk-container-id-1 input.sk-toggleable__control:checked~label.sk-toggleable__label-arrow:before {content: \"▾\";}#sk-container-id-1 div.sk-estimator input.sk-toggleable__control:checked~label.sk-toggleable__label {background-color: #d4ebff;}#sk-container-id-1 div.sk-label input.sk-toggleable__control:checked~label.sk-toggleable__label {background-color: #d4ebff;}#sk-container-id-1 input.sk-hidden--visually {border: 0;clip: rect(1px 1px 1px 1px);clip: rect(1px, 1px, 1px, 1px);height: 1px;margin: -1px;overflow: hidden;padding: 0;position: absolute;width: 1px;}#sk-container-id-1 div.sk-estimator {font-family: monospace;background-color: #f0f8ff;border: 1px dotted black;border-radius: 0.25em;box-sizing: border-box;margin-bottom: 0.5em;}#sk-container-id-1 div.sk-estimator:hover {background-color: #d4ebff;}#sk-container-id-1 div.sk-parallel-item::after {content: \"\";width: 100%;border-bottom: 1px solid gray;flex-grow: 1;}#sk-container-id-1 div.sk-label:hover label.sk-toggleable__label {background-color: #d4ebff;}#sk-container-id-1 div.sk-serial::before {content: \"\";position: absolute;border-left: 1px solid gray;box-sizing: border-box;top: 0;bottom: 0;left: 50%;z-index: 0;}#sk-container-id-1 div.sk-serial {display: flex;flex-direction: column;align-items: center;background-color: white;padding-right: 0.2em;padding-left: 0.2em;position: relative;}#sk-container-id-1 div.sk-item {position: relative;z-index: 1;}#sk-container-id-1 div.sk-parallel {display: flex;align-items: stretch;justify-content: center;background-color: white;position: relative;}#sk-container-id-1 div.sk-item::before, #sk-container-id-1 div.sk-parallel-item::before {content: \"\";position: absolute;border-left: 1px solid gray;box-sizing: border-box;top: 0;bottom: 0;left: 50%;z-index: -1;}#sk-container-id-1 div.sk-parallel-item {display: flex;flex-direction: column;z-index: 1;position: relative;background-color: white;}#sk-container-id-1 div.sk-parallel-item:first-child::after {align-self: flex-end;width: 50%;}#sk-container-id-1 div.sk-parallel-item:last-child::after {align-self: flex-start;width: 50%;}#sk-container-id-1 div.sk-parallel-item:only-child::after {width: 0;}#sk-container-id-1 div.sk-dashed-wrapped {border: 1px dashed gray;margin: 0 0.4em 0.5em 0.4em;box-sizing: border-box;padding-bottom: 0.4em;background-color: white;}#sk-container-id-1 div.sk-label label {font-family: monospace;font-weight: bold;display: inline-block;line-height: 1.2em;}#sk-container-id-1 div.sk-label-container {text-align: center;}#sk-container-id-1 div.sk-container {/* jupyter's `normalize.less` sets `[hidden] { display: none; }` but bootstrap.min.css set `[hidden] { display: none !important; }` so we also need the `!important` here to be able to override the default hidden behavior on the sphinx rendered scikit-learn.org. See: https://github.com/scikit-learn/scikit-learn/issues/21755 */display: inline-block !important;position: relative;}#sk-container-id-1 div.sk-text-repr-fallback {display: none;}</style><div id=\"sk-container-id-1\" class=\"sk-top-container\"><div class=\"sk-text-repr-fallback\"><pre>MLPClassifier(activation=&#x27;tanh&#x27;, hidden_layer_sizes=(20, 20))</pre><b>In a Jupyter environment, please rerun this cell to show the HTML representation or trust the notebook. <br />On GitHub, the HTML representation is unable to render, please try loading this page with nbviewer.org.</b></div><div class=\"sk-container\" hidden><div class=\"sk-item\"><div class=\"sk-estimator sk-toggleable\"><input class=\"sk-toggleable__control sk-hidden--visually\" id=\"sk-estimator-id-1\" type=\"checkbox\" checked><label for=\"sk-estimator-id-1\" class=\"sk-toggleable__label sk-toggleable__label-arrow\">MLPClassifier</label><div class=\"sk-toggleable__content\"><pre>MLPClassifier(activation=&#x27;tanh&#x27;, hidden_layer_sizes=(20, 20))</pre></div></div></div></div></div>"
            ]
          },
          "metadata": {},
          "execution_count": 5
        }
      ],
      "source": [
        "from sklearn.neural_network import MLPClassifier, MLPRegressor\n",
        "\n",
        "agent = MLPClassifier(\n",
        "    hidden_layer_sizes=(20, 20),\n",
        "    activation='tanh',\n",
        ")\n",
        "\n",
        "# инициализация агента на размерности пространства состояний и пространства действий\n",
        "agent.partial_fit([env.reset()] * n_actions, range(n_actions), range(n_actions))"
      ]
    },
    {
      "cell_type": "code",
      "execution_count": 6,
      "metadata": {
        "id": "Kj_y2yk7REkA"
      },
      "outputs": [],
      "source": [
        "def generate_session(agent, t_max=1000, test=False):\n",
        "    \"\"\"\n",
        "    Сыграть отдельный эпизод, используя нейросетевую параметризацию агента.\n",
        "    Останов после :t_max: шагов среды.\n",
        "    \"\"\"\n",
        "    states, actions = [], []\n",
        "    total_reward = 0\n",
        "\n",
        "    s = env.reset()\n",
        "\n",
        "    for t in range(t_max):\n",
        "        \n",
        "        # Используйте модель агента для оценки распределения на действия для текущего состояния :s:\n",
        "        probs = agent.predict_proba([s])[0]\n",
        "\n",
        "        assert probs.shape == (n_actions,), \"Нужно получить вектор вероятностей (функция np.reshape в помощь)\"\n",
        "        \n",
        "        # Используйте текущую оценку политики для выбора действия\n",
        "        if test:\n",
        "            # на тестовом прогоне или на валидации используйте\n",
        "            # детерминированную стратегию\n",
        "            a = np.argmax(probs)\n",
        "            # ^-- подсказка: попробуйте функцию np.argmax\n",
        "        else:\n",
        "            # сэмплирование пропорционально политике $\\pi(a|s)$,\n",
        "            # не нужно выбирать детерминированно наиболее вероятное действие\n",
        "             a = np.random.choice(n_actions, p=probs)\n",
        "            # ^-- подсказка: попробуйте функцию np.random.choice\n",
        "\n",
        "        new_s, r, done, info = env.step(a)\n",
        "\n",
        "        # Запись статистики текущего эпизода\n",
        "        states.append(s)\n",
        "        actions.append(a)\n",
        "        total_reward += r\n",
        "\n",
        "        s = new_s\n",
        "        if done:\n",
        "            break\n",
        "    return states, actions, total_reward"
      ]
    },
    {
      "cell_type": "code",
      "execution_count": 7,
      "metadata": {
        "id": "BykKPgHcREkB",
        "colab": {
          "base_uri": "https://localhost:8080/"
        },
        "outputId": "e6f40f3c-4e15-4efe-821e-787025459606"
      },
      "outputs": [
        {
          "output_type": "stream",
          "name": "stdout",
          "text": [
            "states: [[-0.04196174 -0.02745828 -0.01642768 -0.04976892]\n",
            " [-0.0425109  -0.22234087 -0.01742306  0.23768599]\n",
            " [-0.04695772 -0.0269744  -0.01266934 -0.06044136]\n",
            " [-0.04749721  0.16832689 -0.01387816 -0.35709447]\n",
            " [-0.04413067  0.36364337 -0.02102005 -0.65412102]]\n",
            "actions: [0, 1, 1, 1, 0]\n",
            "reward: 5.0\n"
          ]
        }
      ],
      "source": [
        "dummy_states, dummy_actions, dummy_reward = generate_session(agent, t_max=5)\n",
        "print(\"states:\", np.stack(dummy_states))\n",
        "print(\"actions:\", dummy_actions)\n",
        "print(\"reward:\", dummy_reward)"
      ]
    },
    {
      "cell_type": "markdown",
      "metadata": {
        "id": "q66lFpToREkB"
      },
      "source": [
        "### Шаги кросс-энтропийного метода\n",
        "Общая схема кросс-энтропийного метода (CEM) приведена на странице 35 (параграф 2.2.4.) учебного [пособия](https://arxiv.org/pdf/2201.09746.pdf).\n",
        "\n",
        "Глубокий CEM использует точно такую же стратегию, что и обычный CEM.\n",
        "\n",
        "Главное отличие состоит в том, что теперь каждое наблюдение не число, а `float32` вектор."
      ]
    },
    {
      "cell_type": "code",
      "execution_count": 8,
      "metadata": {
        "id": "oSGsCI2-REkB"
      },
      "outputs": [],
      "source": [
        "def select_elites(states_batch, actions_batch, rewards_batch, percentile=50):\n",
        "    \"\"\"\n",
        "    Выбрать states и actions из игр с rewards >= percentile\n",
        "    :param states_batch: list of lists of states, states_batch[session_i][t]\n",
        "    :param actions_batch: list of lists of actions, actions_batch[session_i][t]\n",
        "    :param rewards_batch: list of rewards, rewards_batch[session_i]\n",
        "\n",
        "    :returns: elite_states,elite_actions, оба 1D lists of states и actions из наилучших эпизодов\n",
        "\n",
        "    Просьба сохранять порядок elite states и actions \n",
        "    [то есть сортированы по номерам эпизодов и в хронологическом порядке в каждом эпизоде]\n",
        "\n",
        "    Просьба не считать по умолчанию states как целочисленные значения\n",
        "    (они позже примут другой формат).\n",
        "    \"\"\"\n",
        "\n",
        "    reward_threshold = np.percentile(rewards_batch, percentile)\n",
        "\n",
        "    elite_states = []\n",
        "    elite_actions = []\n",
        "    for i, reward in enumerate(rewards_batch):\n",
        "        if reward >= reward_threshold:\n",
        "            elite_states.extend(states_batch[i])\n",
        "            elite_actions.extend(actions_batch[i])\n",
        "\n",
        "    # Для глубокого обучения удаляем первое измерение с помощью `np.squeeze`\n",
        "    elite_states = [np.squeeze(state) for state in elite_states]\n",
        "        \n",
        "    # Заметим, что это отличается от табличного случая.\n",
        "    # Теперь наша нейронная сеть обучается на одном объекте с входной размерностью `(1, n_states)`.\n",
        "    # То есть следует использовать `np.squeeze`, чтобы избавиться от ведущего измерения в `select_elites`.\n",
        "    \n",
        "    return elite_states, elite_actions"
      ]
    },
    {
      "cell_type": "markdown",
      "metadata": {
        "id": "oA-1DfEqREkC"
      },
      "source": [
        "# Цикл обучения\n",
        "Генерация эпизодов, выбор N лучших и обучение на них."
      ]
    },
    {
      "cell_type": "code",
      "execution_count": 9,
      "metadata": {
        "id": "jlCWWJCPREkC"
      },
      "outputs": [],
      "source": [
        "from IPython.display import clear_output\n",
        "\n",
        "def show_progress(rewards_batch, log, percentile, reward_range=[-990, +10]):\n",
        "    \"\"\"\n",
        "    Функция-помощник, которая визуализирует процесс обучения.\n",
        "    Никакой крутой математики здесь нет, только построение графиков.\n",
        "    \"\"\"\n",
        "\n",
        "    mean_reward = np.mean(rewards_batch)\n",
        "    threshold = np.percentile(rewards_batch, percentile)\n",
        "    log.append([mean_reward, threshold])\n",
        "\n",
        "    print(\"средняя награда = %.3f, порог=%.3f\" % (mean_reward, threshold))\n",
        "    plt.figure(figsize=[8, 4])\n",
        "    plt.subplot(1, 2, 1)\n",
        "    plt.plot(list(zip(*log))[0], label='Средние награды')\n",
        "    plt.plot(list(zip(*log))[1], label='Пороги наград')\n",
        "    plt.legend()\n",
        "    plt.grid()\n",
        "\n",
        "    plt.subplot(1, 2, 2)\n",
        "    plt.hist(rewards_batch, range=reward_range)\n",
        "    plt.vlines([np.percentile(rewards_batch, percentile)],\n",
        "               [0], [100], label=\"перцентиль\", color='red')\n",
        "    plt.legend()\n",
        "    plt.grid()\n",
        "\n",
        "    clear_output(True)\n",
        "    plt.show()"
      ]
    },
    {
      "cell_type": "code",
      "execution_count": 11,
      "metadata": {
        "id": "uCPk9sWpREkC",
        "colab": {
          "base_uri": "https://localhost:8080/",
          "height": 322
        },
        "outputId": "b4ba39f6-5445-48c2-c3fc-882a5a014baa"
      },
      "outputs": [
        {
          "output_type": "display_data",
          "data": {
            "text/plain": [
              "<Figure size 576x288 with 2 Axes>"
            ],
            "image/png": "[encoded data removed]"
          },
          "metadata": {}
        },
        {
          "output_type": "stream",
          "name": "stdout",
          "text": [
            "Вы выиграли! Можете прервать процедуру обучения с помощью сигнала KeyboardInterrupt.\n",
            "CPU times: user 22min 46s, sys: 19.8 s, total: 23min 6s\n",
            "Wall time: 23min 4s\n"
          ]
        }
      ],
      "source": [
        "%%time\n",
        "\n",
        "sns.set(font_scale=1.)\n",
        "n_sessions = 100\n",
        "percentile = 70\n",
        "log = []\n",
        "\n",
        "for i in range(100):\n",
        "    print(\"Итерация метода № {}:\".format(i + 1))\n",
        "    # генерация новых эпизодов\n",
        "    sessions = [generate_session(agent, t_max=1000) for _ in range(n_sessions)]\n",
        "\n",
        "    states_batch, actions_batch, rewards_batch = map(np.array, zip(*sessions))\n",
        "\n",
        "    elite_states, elite_actions = select_elites(states_batch, actions_batch, rewards_batch, percentile)\n",
        "\n",
        "    # partial_fit агента для обучения на elite_actions (y, целевой переменной)\n",
        "    # при условии elite_states (X, данных)\n",
        "    agent.partial_fit(elite_states, elite_actions)\n",
        "\n",
        "    show_progress(rewards_batch, log, percentile, reward_range=[0, np.max(rewards_batch)])\n",
        "\n",
        "    if np.mean(rewards_batch) > 190:\n",
        "        print(\"Вы выиграли! Можете прервать процедуру обучения с помощью сигнала KeyboardInterrupt.\")"
      ]
    },
    {
      "cell_type": "markdown",
      "metadata": {
        "id": "URml3RHSREkC"
      },
      "source": [
        "# Результаты"
      ]
    },
    {
      "cell_type": "code",
      "execution_count": 12,
      "metadata": {
        "id": "d_W1K4t9REkC"
      },
      "outputs": [],
      "source": [
        "# запись эпизодов\n",
        "import gym.wrappers\n",
        "for kind, directory in [(True, \"test\"), (False, \"sample\")]:\n",
        "    env = gym.wrappers.Monitor(gym.make(\"CartPole-v1\"),\n",
        "                               directory=\"videos/CartPole-v1/{}\".format(directory), force=True)\n",
        "    sessions = [generate_session(agent, t_max=1000, test=kind) for _ in range(100)]\n",
        "    env.close()"
      ]
    },
    {
      "cell_type": "markdown",
      "metadata": {
        "id": "5uzdL_RjREkD"
      },
      "source": [
        "Детерминированная политика:"
      ]
    },
    {
      "cell_type": "code",
      "execution_count": 16,
      "metadata": {
        "id": "-WOfhgFuREkD",
        "colab": {
          "base_uri": "https://localhost:8080/",
          "height": 501
        },
        "outputId": "b2311999-4899-452d-8ad2-242cc70708e6"
      },
      "outputs": [
        {
          "output_type": "execute_result",
          "data": {
            "text/plain": [
              "<IPython.core.display.HTML object>"
            ],
            "text/html": [
              "\n",
              "<video width=\"640\" height=\"480\" controls>\n",
              "  <source src=\"data:video/mp4;base64,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\" type=\"video/mp4\">\n",
              "</video>\n"
            ]
          },
          "metadata": {},
          "execution_count": 16
        }
      ],
      "source": [
        "# демонстрация видео\n",
        "\n",
        "from IPython.display import HTML\n",
        "from base64 import b64encode\n",
        "import os\n",
        "\n",
        "video_names = list(\n",
        "    filter(lambda s: s.endswith(\".mp4\"), os.listdir(\"./videos/CartPole-v1/test\")))\n",
        "\n",
        "mp4 = open(\"./videos/CartPole-v1/test/\"+video_names[-1], \"rb\").read()\n",
        "data_url = \"data:video/mp4;base64,\" + b64encode(mp4).decode()\n",
        "\n",
        "HTML(\"\"\"\n",
        "<video width=\"640\" height=\"480\" controls>\n",
        "  <source src=\"{}\" type=\"video/mp4\">\n",
        "</video>\n",
        "\"\"\".format(data_url))"
      ]
    },
    {
      "cell_type": "markdown",
      "metadata": {
        "id": "kyksNXxoREkD"
      },
      "source": [
        "Стохастическая политика:"
      ]
    },
    {
      "cell_type": "code",
      "execution_count": 17,
      "metadata": {
        "id": "k2PteVnEREkD",
        "colab": {
          "base_uri": "https://localhost:8080/",
          "height": 501
        },
        "outputId": "0430c62d-ee8a-4209-c645-fd718575b7f9"
      },
      "outputs": [
        {
          "output_type": "execute_result",
          "data": {
            "text/plain": [
              "<IPython.core.display.HTML object>"
            ],
            "text/html": [
              "\n",
              "<video width=\"640\" height=\"480\" controls>\n",
              "  <source src=\"data:video/mp4;base64,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\" type=\"video/mp4\">\n",
              "</video>\n"
            ]
          },
          "metadata": {},
          "execution_count": 17
        }
      ],
      "source": [
        "# демонстрация видео\n",
        "\n",
        "from IPython.display import HTML\n",
        "from base64 import b64encode\n",
        "import os\n",
        "\n",
        "video_names = list(\n",
        "    filter(lambda s: s.endswith(\".mp4\"), os.listdir(\"./videos/CartPole-v1/sample\")))\n",
        "\n",
        "mp4 = open(\"./videos/CartPole-v1/sample/\"+video_names[-1], \"rb\").read()\n",
        "data_url = \"data:video/mp4;base64,\" + b64encode(mp4).decode()\n",
        "\n",
        "HTML(\"\"\"\n",
        "<video width=\"640\" height=\"480\" controls>\n",
        "  <source src=\"{}\" type=\"video/mp4\">\n",
        "</video>\n",
        "\"\"\".format(data_url))"
      ]
    },
    {
      "cell_type": "markdown",
      "metadata": {
        "id": "GAwcl2kvREkD"
      },
      "source": [
        "# Дополнительные задания\n",
        "\n",
        "#### дедлайн дополнительного задания: за две недели до официальной даты экзамена, 23:59 GMT+3\n",
        "\n",
        "### Глубокий кросс-энтропийный метод\n",
        "\n",
        "На данный момент у Вас должна быть достаточно хорошая награда в [CartPole-v1](https://www.gymlibrary.dev/environments/classic_control/cart_pole/), чтобы считать основное задание выполненным (см. ссылку). Время попробовать что-нибудь посложнее.\n",
        "\n",
        "### Задания (вплоть до 10 баллов)\n",
        "\n",
        "* __2.1__ Выбрать одну из сред: MountainCar-v0 или LunarLander-v2.\n",
        "  * Для MountainCar, получить среднее вознаграждение __как минимум -150__\n",
        "  * For LunarLander, получить среднее вознаграждение __как минимум +50__\n",
        "\n",
        "Рекомендуем обратить внимание на раздел с советами ниже, это важно.\n",
        "\n",
        "* __2.2__ Разработать способ ускорения обучения хотя бы в два раза по сравнению с версией по умолчанию\n",
        "  * Очевидное улучшение: использовать [joblib](https://www.google.com/search?client=ubuntu&channel=fs&q=joblib&ie=utf-8&oe=utf-8) или multiprocessing\n",
        "  * Попробовать переиспользовать сэмплы из 3-5 последних итераций при вычислении порога и при обучении\n",
        "  * Поэкспериментировать с количеством итераций обучения и шагом метода обучения (learning rate) нейронной сети (смотеть params)\n",
        "  \n",
        "  \n",
        "### Советы\n",
        "* Страница Gym: [MountainCar](https://www.gymlibrary.dev/environments/classic_control/mountain_car/), [LunarLander](https://www.gymlibrary.dev/environments/box2d/lunar_lander/)\n",
        "* Эпизоды в MountainCar могут длиться более 10k+ шагов. Убедитесь, что параметр ```t_max``` не меньше 10k.\n",
        " * Также может быть хорошей идеей строго отбирать награды через \">\", а не \">=\" (strictly_select_elites). Если 90% Ваших эпизодов имеют награду -10k и 20% лучше, тода если Вы используйте перцентиль 20% как порог, R >= порог __не может отклонить неуспешные эпизоды__, в то время как R > справляется с этим корректно.\n",
        "* _проблема сред gym_: некоторые версии gym ограничивают эпизод 200 шагами. Это ограничивает возможности CEM в обучении в большинстве случаев. Убедитесь, что Ваш агент способен симулировать эпизоды с заданным __t_max__, и если нет, то попробуйте `env = gym.make(\"MountainCar-v0\").env` или в ином случае избавьтесь от TimeLimit wrapper.\n",
        "* Если Вы пользуетесь старой _swig_ библиотекой для LunarLander-v2, у Вас может возникнуть ошибка. Детали по [ссылке](https://github.com/openai/gym/issues/100) с решением проблемы.\n",
        "* Если CEM не будет обучаться, то построение диаграмм распределения награды и запись видео эпизодов могут помочь: они Вас могут натолкнуть на идею исправления.\n",
        "* 20-нейронной сети может не хватить, не стесняйтесь экспериментировать.\n",
        "\n",
        "Ячейка с кодом ниже может оказаться полезной:"
      ]
    },
    {
      "cell_type": "code",
      "execution_count": null,
      "metadata": {
        "id": "_FSKJWF1REkD"
      },
      "outputs": [],
      "source": [
        "def visualize_mountain_car(env, agent):\n",
        "    xs = np.linspace(env.min_position, env.max_position, 100)\n",
        "    vs = np.linspace(-env.max_speed, env.max_speed, 100)\n",
        "    grid = np.dstack(np.meshgrid(xs, vs)).transpose(1, 0, 2)\n",
        "    grid_flat = grid.reshape(len(xs) * len(vs), 2)\n",
        "    probs = agent.predict_proba(grid_flat).reshape(len(xs), len(vs), 3)\n",
        "    return probs"
      ]
    },
    {
      "cell_type": "markdown",
      "metadata": {
        "id": "d7ueLZymREkD"
      },
      "source": [
        "Функции-помощники для инициализации среды:"
      ]
    },
    {
      "cell_type": "code",
      "execution_count": null,
      "metadata": {
        "id": "ElUHpPvTREkD"
      },
      "outputs": [],
      "source": [
        "def get_env(name, classification=True):\n",
        "    env = gym.make(name).env\n",
        "    \n",
        "    env.reset()\n",
        "    if classification:\n",
        "        n_actions = env.action_space.n\n",
        "    else:\n",
        "        n_actions = sum(env.action_space.shape)\n",
        "    state_dim = env.observation_space.shape[0]\n",
        "    \n",
        "    plt.imshow(env.render(\"rgb_array\"))\n",
        "    print(\"state vector dim =\", state_dim)\n",
        "    print(\"n_actions =\", n_actions)\n",
        "    \n",
        "    env.close()\n",
        "    return env, n_actions, state_dim"
      ]
    },
    {
      "cell_type": "markdown",
      "metadata": {
        "id": "ekFhnkVUREkE"
      },
      "source": [
        "Строгий отбор states и actions на основе перцентилей:"
      ]
    },
    {
      "cell_type": "code",
      "execution_count": null,
      "metadata": {
        "id": "KCAiGJHIREkE"
      },
      "outputs": [],
      "source": [
        "def strictly_select_elites(states_batch, actions_batch, rewards_batch, percentile=50, classification=True):\n",
        "    \"\"\"\n",
        "    Выбрать states и actions из игр с rewards >= percentile\n",
        "    :param states_batch: list of lists of states, states_batch[session_i][t]\n",
        "    :param actions_batch: list of lists of actions, actions_batch[session_i][t]\n",
        "    :param rewards_batch: list of rewards, rewards_batch[session_i]\n",
        "\n",
        "    :returns: elite_states,elite_actions, оба 1D lists of states и actions из наилучших эпизодов\n",
        "\n",
        "    Просьба сохранять порядок elite states и actions \n",
        "    [то есть сортированы по номерам эпизодов и в хронологическом порядке в каждом эпизоде]\n",
        "\n",
        "    Просьба не считать по умолчанию states как целочисленные значения\n",
        "    (они позже примут другой формат).\n",
        "    Отбор в случае решения задачи классификации и в случае решения задачи регрессии несколько отличаются.\n",
        "    \"\"\"\n",
        "\n",
        "    < Ваша имплементация >\n",
        "    \n",
        "    return elite_states, elite_actions"
      ]
    },
    {
      "cell_type": "markdown",
      "metadata": {
        "id": "nRswvStLREkE"
      },
      "source": [
        "Обёртка для инициализации агента:"
      ]
    },
    {
      "cell_type": "code",
      "execution_count": null,
      "metadata": {
        "id": "mQpluv68REkE"
      },
      "outputs": [],
      "source": [
        "from sklearn.neural_network import MLPRegressor\n",
        "\n",
        "\n",
        "def init_agent(env, classification=True, **params):\n",
        "    if classification:\n",
        "        agent = MLPClassifier(\n",
        "            hidden_layer_sizes=(20, 20, 20, 20),\n",
        "            activation='tanh',\n",
        "        )\n",
        "    else:\n",
        "        agent = MLPRegressor(\n",
        "            hidden_layer_sizes=(20, 20, 20, 20),\n",
        "            activation='tanh',\n",
        "        )\n",
        "    \n",
        "    agent.set_params(**params)\n",
        "    \n",
        "    if classification:\n",
        "        n_actions = env.action_space.n\n",
        "        agent.partial_fit([env.reset()] * n_actions, range(n_actions), range(n_actions))\n",
        "    else:\n",
        "        n_actions = sum(env.action_space.shape)\n",
        "        if n_actions > 1:\n",
        "            agent.partial_fit([env.reset()], np.random.randn(1, n_actions))\n",
        "        else:\n",
        "            agent.partial_fit([env.reset()], np.random.randn(n_actions))\n",
        "    \n",
        "    return agent"
      ]
    },
    {
      "cell_type": "markdown",
      "metadata": {
        "id": "Mn698FFJREkE"
      },
      "source": [
        "Генератор эпизодов, приспособленный к параллелизации:"
      ]
    },
    {
      "cell_type": "code",
      "execution_count": null,
      "metadata": {
        "id": "DWHMRUVtREkE"
      },
      "outputs": [],
      "source": [
        "import pickle as pkl\n",
        "\n",
        "\n",
        "def generate_parallel_session(agent, name='MountainCar-v0', t_max=10000, classification=True,\n",
        "                              epsilon=0.01, agent_mul_fac=1.0, test=False, env=None):\n",
        "    \"\"\"\n",
        "    Сыграть отдельный эпизод, используя нейросетевую параметризацию агента.\n",
        "    Останов после :t_max: шагов среды.\n",
        "    \"\"\"\n",
        "    \n",
        "    states, actions = [], []\n",
        "    total_reward = 0\n",
        "    \n",
        "    if env is None:\n",
        "        env = gym.make(name).env\n",
        "    if classification:\n",
        "        n_actions = env.action_space.n\n",
        "    else:\n",
        "        n_actions = sum(env.action_space.shape)\n",
        "    s = env.reset()\n",
        "\n",
        "    for t in range(t_max):\n",
        "        \n",
        "        if classification:\n",
        "            probs = < оценка вероятностей нейросетевой модели >\n",
        "\n",
        "            assert probs.shape == (n_actions,), \"Нужно получить вектор вероятностей\" +\\\n",
        "                \"(функция np.reshape в помощь)\"\n",
        "            \n",
        "            if test:\n",
        "                a = < наиболее вероятное действия относительно probs >\n",
        "            else:\n",
        "                a = < сэмпл действия из распределения probs >\n",
        "        else:\n",
        "            expected_action = < оценка с помощью модели среднего действия, помноженного на agent_mul_fac >\n",
        "            \n",
        "            if test:\n",
        "                a = < само expected_action >\n",
        "            else:\n",
        "                a = < сэмпл из Normal(expected_action, epsilon) >\n",
        "\n",
        "        new_s, r, done, info = env.step(a)\n",
        "\n",
        "        states.append(s)\n",
        "        actions.append(a)\n",
        "        total_reward += r\n",
        "\n",
        "        s = new_s\n",
        "        if done:\n",
        "            break\n",
        "    \n",
        "    del env, s, new_s, a\n",
        "    \n",
        "    return states, actions, total_reward"
      ]
    },
    {
      "cell_type": "markdown",
      "metadata": {
        "id": "sFQi4-ITREkE"
      },
      "source": [
        "Функция для обучения агента:"
      ]
    },
    {
      "cell_type": "code",
      "execution_count": null,
      "metadata": {
        "id": "ForIYn6HREkE"
      },
      "outputs": [],
      "source": [
        "from collections import deque\n",
        "from multiprocessing import Pool\n",
        "from functools import partial\n",
        "\n",
        "\n",
        "def train_agent(classification=True, epsilon=0.01, name='MountainCar-v0', n_train_steps=100,\n",
        "                n_game_steps=10000, n_sessions=100, percentile=70, goal_score=-150, history_length=4,\n",
        "                n_jobs=16, verbose=True, agent_mul_fac=1.0, **params):\n",
        "    env = gym.make(name).env\n",
        "    if classification:\n",
        "        n_actions = env.action_space.n\n",
        "    else:\n",
        "        n_actions = sum(env.action_space.shape)\n",
        "    \n",
        "    agent = init_agent(env, classification, **params)\n",
        "    \n",
        "    if verbose:\n",
        "        print('Шаг агента = {}'.format(agent.learning_rate_init), flush=True)\n",
        "    \n",
        "    log = []\n",
        "    sessions = deque([], history_length * n_sessions)\n",
        "    \n",
        "    for i in range(n_train_steps):\n",
        "        if n_jobs > 1:\n",
        "            pool = Pool(processes=n_jobs, maxtasksperchild=10)\n",
        "            sessions.extend(pool.map(partial(generate_parallel_session, agent, name, n_game_steps,\n",
        "                                             classification, epsilon, agent_mul_fac), [False] * n_sessions))\n",
        "            pool.close()\n",
        "            pool.join()\n",
        "            del pool\n",
        "        else:\n",
        "            sessions.extend([generate_parallel_session(\n",
        "                agent, name, n_game_steps, classification, epsilon, agent_mul_fac,\n",
        "                False) for _ in range(n_sessions)])\n",
        "        \n",
        "        states_batch, actions_batch, rewards_batch = map(np.array, zip(*sessions))\n",
        "        elite_states, elite_actions = strictly_select_elites(\n",
        "            states_batch, actions_batch, rewards_batch, percentile, classification)\n",
        "        \n",
        "        if classification:\n",
        "            agent.partial_fit(elite_states, elite_actions)\n",
        "        else:\n",
        "            elite_actions = elite_actions if (len(elite_actions.shape) < 2) or (elite_actions.shape[1] > 1)\\\n",
        "                            else elite_actions.reshape(-1)\n",
        "            agent.partial_fit(elite_states, elite_actions / agent_mul_fac)\n",
        "        \n",
        "        if verbose:\n",
        "            inter_min = np.min(rewards_batch)\n",
        "            min_lim = -n_game_steps if -n_game_steps < inter_min else inter_min\n",
        "            inter_max = np.max(rewards_batch)\n",
        "            max_lim = goal_score if goal_score > inter_max else inter_max\n",
        "            show_progress(rewards_batch, log, percentile, reward_range=[min_lim, max_lim])\n",
        "            \n",
        "            if np.mean(rewards_batch) > goal_score:\n",
        "                print(\"Вы выиграли! Можете прервать процедуру обучения с помощью сигнала KeyboardInterrupt.\")\n",
        "    \n",
        "    if verbose:\n",
        "        mean_reward = np.mean(rewards_batch)\n",
        "        threshold = np.percentile(rewards_batch, percentile)\n",
        "        print(\"средняя награда = %.3f, порог=%.3f\" % (mean_reward, threshold))\n",
        "        del mean_reward, threshold\n",
        "    \n",
        "    del env, sessions, states_batch, actions_batch, rewards_batch, elite_states, elite_actions\n",
        "    \n",
        "    return agent, log"
      ]
    },
    {
      "cell_type": "markdown",
      "metadata": {
        "id": "pVBEffQxREkF"
      },
      "source": [
        "Функция для постановки экспериментов, зависящих от набора гиперпараметров:"
      ]
    },
    {
      "cell_type": "code",
      "execution_count": null,
      "metadata": {
        "id": "pyfQAcUkREkF"
      },
      "outputs": [],
      "source": [
        "from time import time\n",
        "\n",
        "\n",
        "def training_experiment(n_jobs_list, history_length_list, learning_rate_init_list, n_train_steps_list,\n",
        "                        n_samples=5, name='MountainCar-v0', n_game_steps=10000, n_sessions=100, percentile=70,\n",
        "                        goal_score=-150, **params):\n",
        "    experiment_data = []\n",
        "    \n",
        "    for n_jobs in n_jobs_list:\n",
        "        for history_length in history_length_list:\n",
        "            for learning_rate_init in learning_rate_init_list:\n",
        "                params['learning_rate_init'] = learning_rate_init\n",
        "                for n_train_steps in n_train_steps_list:\n",
        "                    elapsed_time_list = []\n",
        "                    log_list = []\n",
        "                    \n",
        "                    for i in range(n_samples):\n",
        "                        print(\n",
        "                            'Запуск: n_jobs = {}, history_length = {},\\n'.format(\n",
        "                                n_jobs, history_length) +\\\n",
        "                            '                  learning_rate_init = {}, n_train_steps = {};\\n'.format(\n",
        "                                learning_rate_init, n_train_steps) +\\\n",
        "                            'сэмпл {} из {}.'.format(\n",
        "                                i + 1, n_samples), flush=True)\n",
        "                        \n",
        "                        elapsed_time = time()\n",
        "                        \n",
        "                        agent, log = train_agent(\n",
        "                            classification=True, epsilon=0.01, name=name, n_train_steps=n_train_steps,\n",
        "                            n_game_steps=n_game_steps, n_sessions=n_sessions, percentile=percentile,\n",
        "                            goal_score=goal_score, history_length=history_length, n_jobs=n_jobs, verbose=True,\n",
        "                            **params)\n",
        "                        \n",
        "                        elapsed_time_list.append(time() - elapsed_time)\n",
        "                        \n",
        "                        log_list.append(log)\n",
        "                        \n",
        "                        del log, agent\n",
        "                        \n",
        "                    results = {\n",
        "                               'name': name,\n",
        "                               'goal_score': goal_score,\n",
        "                               'n_jobs': n_jobs,\n",
        "                               'elapsed_time_list': elapsed_time_list,\n",
        "                               'history_length': history_length,\n",
        "                               'learning_rate_init': learning_rate_init,\n",
        "                               'n_train_steps': n_train_steps,\n",
        "                               'log_list': log_list\n",
        "                              }\n",
        "                        \n",
        "                    experiment_data.append(results)\n",
        "                    \n",
        "                    del elapsed_time_list, log_list\n",
        "    return experiment_data"
      ]
    },
    {
      "cell_type": "markdown",
      "metadata": {
        "id": "Co4xVwmCREkF"
      },
      "source": [
        "Функция-помощник для визуализации эффектов от переиспользования сэмплов:"
      ]
    },
    {
      "cell_type": "code",
      "execution_count": null,
      "metadata": {
        "id": "KuWHZMz4REkF"
      },
      "outputs": [],
      "source": [
        "def plot_history_length_experiment_results(df_data):\n",
        "    history_length_vals = []\n",
        "    train_step_vals = []\n",
        "    reward_vals = []\n",
        "    mean_threshold_vals = []\n",
        "    \n",
        "    for config in df_data:\n",
        "        for log in config['log_list']:\n",
        "            mean_rewards, reward_thresholds = zip(*log)\n",
        "            mean_rewards, reward_thresholds = list(mean_rewards), list(reward_thresholds)\n",
        "            reward_vals.extend(mean_rewards)\n",
        "            reward_vals.extend(reward_thresholds)\n",
        "            train_steps_num = len(mean_rewards)\n",
        "            train_step_vals.extend(range(train_steps_num))\n",
        "            train_step_vals.extend(range(train_steps_num))\n",
        "            history_length_vals.extend([config['history_length']] * train_steps_num * 2)\n",
        "            mean_threshold_vals.extend(['mean'] * train_steps_num)\n",
        "            mean_threshold_vals.extend(['threshold'] * train_steps_num)\n",
        "    \n",
        "    df = pd.DataFrame({'Переиспользованных шагов': history_length_vals, 'Шаг №': train_step_vals,\n",
        "                       'Награда': reward_vals, 'Вид награды': mean_threshold_vals})\n",
        "    last_steps_count = np.sort(df.loc[:, 'Переиспользованных шагов'].unique())\n",
        "    max_n_colors = last_steps_count.size\n",
        "    palette = dict(zip(last_steps_count, sns.hls_palette(max_n_colors, l=.45, s=.8)))\n",
        "    \n",
        "    sns.set(font_scale=1.35)\n",
        "    g = sns.relplot(x='Шаг №', y='Награда', hue='Переиспользованных шагов', style='Вид награды', kind='line',\n",
        "                    data=df, height=8, aspect=1.5, palette=palette)\n",
        "    g.fig.suptitle('Влияние количества переиспользованных шагов при обучении {}'.format(df_data[0]['name']))\n",
        "    clear_output(True)\n",
        "    plt.show()"
      ]
    },
    {
      "cell_type": "markdown",
      "metadata": {
        "id": "dCxsFE6OREkF"
      },
      "source": [
        "Функция-помощник для визуализации влияния шага обучения и количества итераций при обучении агента:"
      ]
    },
    {
      "cell_type": "code",
      "execution_count": null,
      "metadata": {
        "id": "tdbmY3HlREkF"
      },
      "outputs": [],
      "source": [
        "def plot_lrt_experiment_results(df_data):\n",
        "    learning_rate_vals = []\n",
        "    max_train_steps_vals = []\n",
        "    train_step_vals = []\n",
        "    reward_vals = []\n",
        "    mean_threshold_vals = []\n",
        "    \n",
        "    for config in df_data:\n",
        "        for log in config['log_list']:\n",
        "            mean_rewards, reward_thresholds = zip(*log)\n",
        "            mean_rewards, reward_thresholds = list(mean_rewards), list(reward_thresholds)\n",
        "            reward_vals.extend(mean_rewards)\n",
        "            reward_vals.extend(reward_thresholds)\n",
        "            train_steps_num = len(mean_rewards)\n",
        "            train_step_vals.extend(range(train_steps_num))\n",
        "            train_step_vals.extend(range(train_steps_num))\n",
        "            learning_rate_vals.extend([config['learning_rate_init']] * train_steps_num * 2)\n",
        "            max_train_steps_vals.extend([config['n_train_steps']] * train_steps_num * 2)\n",
        "            mean_threshold_vals.extend(['mean'] * train_steps_num)\n",
        "            mean_threshold_vals.extend(['threshold'] * train_steps_num)\n",
        "                \n",
        "    df = pd.DataFrame({'Шаг метода': learning_rate_vals, 'Максимум шагов': max_train_steps_vals,\n",
        "                       'Шаг №': train_step_vals, 'Награда': reward_vals,\n",
        "                       'Вид награды': mean_threshold_vals})\n",
        "    lr_vals = np.sort(df.loc[:, 'Learning rate'].unique())\n",
        "    max_n_colors = lr_vals.size\n",
        "    palette = dict(zip(lr_vals, sns.hls_palette(max_n_colors, l=.45, s=.8)))\n",
        "    \n",
        "    sns.set(font_scale=1.35)\n",
        "    g = sns.relplot(x='Шаг №', y='Награда', hue='Шаг метода', style='Вид награды', kind='line',\n",
        "                    row='Максимум шагов', data=df, height=6, aspect=1.8, palette=palette)\n",
        "    g.fig.suptitle('Влияние шага метода и количества итераций на {}'.format(df_data[0]['name']),\n",
        "                   x=0.8, y=1.05)\n",
        "    leg = g._legend\n",
        "    for lr, label in zip(lr_vals, leg.texts[1:]):\n",
        "        label.set_text(\"{:.4f}\".format(lr))\n",
        "    clear_output(True)\n",
        "    plt.show()"
      ]
    },
    {
      "cell_type": "markdown",
      "metadata": {
        "id": "273PvHitREkF"
      },
      "source": [
        "Функция для записи сэмплированных игровых эпизодов:"
      ]
    },
    {
      "cell_type": "code",
      "execution_count": null,
      "metadata": {
        "id": "MT5Szh1PREkF"
      },
      "outputs": [],
      "source": [
        "def record_sessions(agent, name, t_max=10000, classification=True, epsilon=0.01, agent_mul_fac=1.0):\n",
        "    for kind, directory in [(True, \"test\"), (False, \"sample\")]:\n",
        "        env = gym.wrappers.Monitor(gym.make(name),\n",
        "                                   directory=\"videos/{}/{}\".format(name, directory), force=True)\n",
        "        sessions = [generate_parallel_session(agent, name=name, t_max=t_max, classification=classification,\n",
        "                                              epsilon=epsilon, agent_mul_fac=agent_mul_fac, test=kind,\n",
        "                                              env=env) for _ in range(100)]\n",
        "        env.close()"
      ]
    },
    {
      "cell_type": "markdown",
      "metadata": {
        "id": "gYQwB-vtREkF"
      },
      "source": [
        "Функция, позволяющая вставить запись игрового эпизода в ноутбук:"
      ]
    },
    {
      "cell_type": "code",
      "execution_count": null,
      "metadata": {
        "id": "d-A2HCOZREkG"
      },
      "outputs": [],
      "source": [
        "def show_video(name, directory):\n",
        "    path = \"./videos/{}/{}\".format(name, directory)\n",
        "    video_names = list(\n",
        "        filter(lambda s: s.endswith(\".mp4\"), os.listdir(path)))\n",
        "    return HTML(\"\"\"\n",
        "    <video width=\"640\" height=\"480\" controls>\n",
        "    <source src=\"{}\" type=\"video/mp4\">\n",
        "    </video>\n",
        "    \"\"\".format(path + \"/\" + video_names[-1]))"
      ]
    },
    {
      "cell_type": "markdown",
      "metadata": {
        "id": "WpReFhYZREkG"
      },
      "source": [
        "Сетка параметров для проведения экспериментов:"
      ]
    },
    {
      "cell_type": "code",
      "execution_count": null,
      "metadata": {
        "id": "vCrQejHjREkG"
      },
      "outputs": [],
      "source": [
        "< n_jobs_list = сетка на количество процессов\n",
        "history_length_list = сетка на размер истории\n",
        "learning_rate_init_list = сетка на шаги метода\n",
        "n_train_steps_list = сетка на количество итераций метода >"
      ]
    },
    {
      "cell_type": "markdown",
      "metadata": {
        "id": "gNy71KUpREkG"
      },
      "source": [
        "## Глубокий кросс-энтропийный метод в среде MountainCar-v0"
      ]
    },
    {
      "cell_type": "code",
      "execution_count": null,
      "metadata": {
        "id": "krdRfYszREkG"
      },
      "outputs": [],
      "source": [
        "sns.set(font_scale=1.)\n",
        "env, n_actions, _ = get_env(\"MountainCar-v0\")"
      ]
    },
    {
      "cell_type": "code",
      "execution_count": null,
      "metadata": {
        "id": "u0DidLV2REkG"
      },
      "outputs": [],
      "source": [
        "env.observation_space, env.action_space"
      ]
    },
    {
      "cell_type": "markdown",
      "metadata": {
        "id": "7ZRZzep7REkG"
      },
      "source": [
        "Поиск оптимального количества параллельных легковесных процессов (нитей) на конечной машине:"
      ]
    },
    {
      "cell_type": "code",
      "execution_count": null,
      "metadata": {
        "id": "dcVYK2qTREkH"
      },
      "outputs": [],
      "source": [
        "%%time\n",
        "\n",
        "n_jobs_experiment_data = < запуск перебора на сетке с помощью training_experiment >\n",
        "\n",
        "sns.set(font_scale=1.)\n",
        "pkl.dump(n_jobs_experiment_data, open('MountainCar-v0_n_jobs_experiment_data.pkl', 'wb'))\n",
        "clear_output(True)"
      ]
    },
    {
      "cell_type": "markdown",
      "metadata": {
        "id": "hf9baZN6REkH"
      },
      "source": [
        "Визуализация результатов эксперимента:"
      ]
    },
    {
      "cell_type": "code",
      "execution_count": null,
      "metadata": {
        "id": "gJNZc8hGREkH"
      },
      "outputs": [],
      "source": [
        "import seaborn as sns\n",
        "from matplotlib import pyplot as plt\n",
        "import pandas as pd\n",
        "\n",
        "\n",
        "n_jobs_vals = []\n",
        "elapsed_time_vals = []\n",
        "elapsed_time_vars = []\n",
        "\n",
        "for config in n_jobs_experiment_data:\n",
        "    n_jobs_vals.append(config['n_jobs'])\n",
        "    elapsed_time_vals.append(np.mean(config['elapsed_time_list']))\n",
        "    elapsed_time_vars.append(np.std(config['elapsed_time_list']))\n",
        "\n",
        "df = pd.DataFrame({'Количество нитей': n_jobs_vals, 'Средний ETA, сек.': elapsed_time_vals,\n",
        "                   'Стандартное отклонение ETA': elapsed_time_vars})\n",
        "\n",
        "plt.figure(figsize=(12, 6))\n",
        "sns.set(font_scale=1.35)\n",
        "plt.title('Производительность 5 итераций обучения на {}'.format(n_jobs_experiment_data[0]['name']),\n",
        "          fontsize=16)\n",
        "ax = sns.scatterplot(x='Количество нитей', y='Средний ETA, сек.', size='Стандартное отклонение ETA',\n",
        "                     sizes=(40, 400), data=df)\n",
        "min_val = np.min(elapsed_time_vals)\n",
        "ax.axhline(min_val, color='red', ls='--', linewidth=2, label='{:.2f} сек.'.format(min_val))\n",
        "plt.legend()\n",
        "clear_output(True)\n",
        "plt.show()"
      ]
    },
    {
      "cell_type": "markdown",
      "metadata": {
        "id": "HuG3BTHVREkH"
      },
      "source": [
        "Исследование влияния переиспользования сэмплов в процессе обучения:"
      ]
    },
    {
      "cell_type": "code",
      "execution_count": null,
      "metadata": {
        "id": "oVIZXIv2REkH"
      },
      "outputs": [],
      "source": [
        "%%time\n",
        "\n",
        "history_length_experiment_data = < запуск перебора на сетке с помощью training_experiment >\n",
        "\n",
        "sns.set(font_scale=1.)\n",
        "pkl.dump(history_length_experiment_data, open('MountainCar-v0_history_length_experiment_data.pkl', 'wb'))\n",
        "clear_output(True)"
      ]
    },
    {
      "cell_type": "markdown",
      "metadata": {
        "id": "WJWf4QhLREkH"
      },
      "source": [
        "Результаты текущего эксперимента:"
      ]
    },
    {
      "cell_type": "code",
      "execution_count": null,
      "metadata": {
        "id": "lKZ9rULQREkH"
      },
      "outputs": [],
      "source": [
        "plot_history_length_experiment_results(history_length_experiment_data)"
      ]
    },
    {
      "cell_type": "markdown",
      "metadata": {
        "id": "QJ4DtMN7REkH"
      },
      "source": [
        "Поиск оптимального шага обучения для многослойного перцептрона (MLP) вместе c подбором количества шагов обучения:"
      ]
    },
    {
      "cell_type": "code",
      "execution_count": null,
      "metadata": {
        "id": "bS1k4X0pREkH"
      },
      "outputs": [],
      "source": [
        "%%time\n",
        "\n",
        "lrt_experiment_data = < запуск перебора на сетке с помощью training_experiment >\n",
        "\n",
        "sns.set(font_scale=1.)\n",
        "pkl.dump(lrt_experiment_data, open('MountainCar-v0_lrt_experiment_data.pkl', 'wb'))\n",
        "clear_output(True)"
      ]
    },
    {
      "cell_type": "markdown",
      "metadata": {
        "id": "KqPdH4uCREkH"
      },
      "source": [
        "Результаты текущего эксперимента:"
      ]
    },
    {
      "cell_type": "code",
      "execution_count": null,
      "metadata": {
        "id": "cd3Sy4C9REkH"
      },
      "outputs": [],
      "source": [
        "plot_lrt_experiment_results(lrt_experiment_data)"
      ]
    },
    {
      "cell_type": "markdown",
      "metadata": {
        "id": "lxfWJfqBREkH"
      },
      "source": [
        "Обучение агента на задаче MountainCar-v0 с использованием подобранных ранее гиперпараметров:"
      ]
    },
    {
      "cell_type": "code",
      "execution_count": null,
      "metadata": {
        "id": "eygIYj8GREkI"
      },
      "outputs": [],
      "source": [
        "%%time\n",
        "\n",
        "sns.set(font_scale=1.)\n",
        "agent, _ = < запуск функции train_agent для обучения агента >"
      ]
    },
    {
      "cell_type": "markdown",
      "metadata": {
        "id": "DwqpCkJ0REkI"
      },
      "source": [
        "Визуализация действий обученного агента в зависимости скорости и положения:"
      ]
    },
    {
      "cell_type": "code",
      "execution_count": null,
      "metadata": {
        "id": "SDKRhOw7REkI"
      },
      "outputs": [],
      "source": [
        "sns.set(font_scale=1.)\n",
        "plt.imshow(visualize_mountain_car(env, agent))"
      ]
    },
    {
      "cell_type": "markdown",
      "metadata": {
        "id": "Bhk74E-bREkI"
      },
      "source": [
        "Сэмпл детерминированной стратегии по въезду на холм:"
      ]
    },
    {
      "cell_type": "code",
      "execution_count": null,
      "metadata": {
        "id": "PEDhG1AaREkI"
      },
      "outputs": [],
      "source": [
        "record_sessions(agent, \"MountainCar-v0\")\n",
        "show_video(\"MountainCar-v0\", \"test\")"
      ]
    },
    {
      "cell_type": "markdown",
      "metadata": {
        "id": "dxsxRMfvREkI"
      },
      "source": [
        "Сэмпл стохастической стратегии по въезду на холм:"
      ]
    },
    {
      "cell_type": "code",
      "execution_count": null,
      "metadata": {
        "id": "lps-Yg-CREkI"
      },
      "outputs": [],
      "source": [
        "show_video(\"MountainCar-v0\", \"sample\")"
      ]
    },
    {
      "cell_type": "markdown",
      "metadata": {
        "id": "FNHHNI0rREkI"
      },
      "source": [
        "## Обучение агента в среде LunarLander-v2"
      ]
    },
    {
      "cell_type": "code",
      "execution_count": null,
      "metadata": {
        "id": "t9yx5C4hREkI"
      },
      "outputs": [],
      "source": [
        "sns.set(font_scale=1.)\n",
        "env, n_actions, _ = get_env(\"LunarLander-v2\")"
      ]
    },
    {
      "cell_type": "code",
      "execution_count": null,
      "metadata": {
        "id": "h5KSuybnREkI"
      },
      "outputs": [],
      "source": [
        "env.observation_space, env.action_space"
      ]
    },
    {
      "cell_type": "markdown",
      "metadata": {
        "id": "bRSSLQloREkI"
      },
      "source": [
        "Обучение агента:"
      ]
    },
    {
      "cell_type": "code",
      "execution_count": null,
      "metadata": {
        "id": "uK5q0zrrREkI"
      },
      "outputs": [],
      "source": [
        "%%time\n",
        "\n",
        "agent, _ = < запуск функции train_agent для обучения агента >"
      ]
    },
    {
      "cell_type": "markdown",
      "metadata": {
        "id": "NH1PLhq8REkI"
      },
      "source": [
        "Детерминированная стратегия:"
      ]
    },
    {
      "cell_type": "code",
      "execution_count": null,
      "metadata": {
        "id": "u-Nmcdu5REkI"
      },
      "outputs": [],
      "source": [
        "record_sessions(agent, 'LunarLander-v2', t_max=1000)\n",
        "show_video('LunarLander-v2', 'test')"
      ]
    },
    {
      "cell_type": "markdown",
      "metadata": {
        "id": "q6nP-ZgAREkI"
      },
      "source": [
        "Стохастическая стратегия:"
      ]
    },
    {
      "cell_type": "code",
      "execution_count": null,
      "metadata": {
        "id": "CUr9RPTgREkJ"
      },
      "outputs": [],
      "source": [
        "show_video('LunarLander-v2', 'sample')"
      ]
    },
    {
      "cell_type": "markdown",
      "metadata": {
        "id": "fzn2Dac5REkJ"
      },
      "source": [
        "### Ещё дополнительное задание (вплоть до 5 баллов)\n",
        "\n",
        "* __2.3 дополнительное__ Обучить агента в среде с непрерывным пространством действий с помощью `MLPRegressor` или похожим образом.\n",
        "  * Начните с [\"Pendulum-v0\"](https://www.gymlibrary.dev/environments/classic_control/pendulum/), попробуйте получить среднее вознаграждение **как минимум -300**.\n",
        "  * Поскольку Ваш агент оценивает \"среднее\" действие, полезно добавить небольшой шум для исследования среды.\n",
        "  * Обучить агентов в [MountainCarContinuous-v0](https://mgoulao.github.io/gym-docs/environments/classic_control/mountain_car_continuous/), [LunarLanderContinuous-v2](https://www.gymlibrary.dev/environments/box2d/lunar_lander/). За достижение награды ниже порогового значения будет начислено меньше баллов. Помните, что дискретные и непрерывные среды могут отличаться не только в пространстве действий. Требования на среднее вознаграждение такие же, как и в случае сред **MountainCar** и **LunarLander** ранее.\n",
        "  * __Просьба при сдаче задания перечислить, что было сделано__"
      ]
    },
    {
      "cell_type": "markdown",
      "metadata": {
        "id": "-eb8_QYbREkJ"
      },
      "source": [
        "## Обучение в Pendulum-v0"
      ]
    },
    {
      "cell_type": "code",
      "execution_count": null,
      "metadata": {
        "id": "swU1L6CHREkJ"
      },
      "outputs": [],
      "source": [
        "sns.set(font_scale=1.)\n",
        "env, n_actions, _ = get_env('Pendulum-v0', False)"
      ]
    },
    {
      "cell_type": "code",
      "execution_count": null,
      "metadata": {
        "id": "le_T6Uo5REkJ"
      },
      "outputs": [],
      "source": [
        "env.observation_space, env.action_space"
      ]
    },
    {
      "cell_type": "markdown",
      "metadata": {
        "id": "nGCsDYOwREkJ"
      },
      "source": [
        "Обучение агента:"
      ]
    },
    {
      "cell_type": "code",
      "execution_count": null,
      "metadata": {
        "id": "eTb2QfngREkJ"
      },
      "outputs": [],
      "source": [
        "%%time\n",
        "\n",
        "agent, _ = < запуск функции train_agent для обучения агента >"
      ]
    },
    {
      "cell_type": "markdown",
      "metadata": {
        "id": "1AlsCHJkREkJ"
      },
      "source": [
        "Детерминированная стратегия:"
      ]
    },
    {
      "cell_type": "code",
      "execution_count": null,
      "metadata": {
        "id": "zNqMWVUyREkJ"
      },
      "outputs": [],
      "source": [
        "record_sessions(agent, 'Pendulum-v0', t_max=1000, classification=False, epsilon=.5, agent_mul_fac=2.)\n",
        "show_video('Pendulum-v0', 'test')"
      ]
    },
    {
      "cell_type": "markdown",
      "metadata": {
        "id": "Oa062cHLREkJ"
      },
      "source": [
        "Стохастическая стратегия:"
      ]
    },
    {
      "cell_type": "code",
      "execution_count": null,
      "metadata": {
        "id": "u8FkBiWHREkJ"
      },
      "outputs": [],
      "source": [
        "show_video('Pendulum-v0', 'sample')"
      ]
    },
    {
      "cell_type": "markdown",
      "metadata": {
        "id": "oz0ODPXOREkJ"
      },
      "source": [
        "## Обучение MountainCarContinuous-v0"
      ]
    },
    {
      "cell_type": "code",
      "execution_count": null,
      "metadata": {
        "id": "uHnoPVFJREkJ"
      },
      "outputs": [],
      "source": [
        "sns.set(font_scale=1.)\n",
        "env, n_actions, _ = get_env('MountainCarContinuous-v0', False)"
      ]
    },
    {
      "cell_type": "code",
      "execution_count": null,
      "metadata": {
        "id": "JjPCQwZrREkJ"
      },
      "outputs": [],
      "source": [
        "env.observation_space, env.action_space"
      ]
    },
    {
      "cell_type": "markdown",
      "metadata": {
        "id": "e_Z-qI5NREkK"
      },
      "source": [
        "Обучение агента:"
      ]
    },
    {
      "cell_type": "code",
      "execution_count": null,
      "metadata": {
        "id": "8ZerCVdIREkK"
      },
      "outputs": [],
      "source": [
        "%%time\n",
        "\n",
        "agent, _ = < запуск функции train_agent для обучения агента >"
      ]
    },
    {
      "cell_type": "markdown",
      "metadata": {
        "id": "OTLFpseaREkK"
      },
      "source": [
        "Детерминированная стратегия:"
      ]
    },
    {
      "cell_type": "code",
      "execution_count": null,
      "metadata": {
        "id": "hvXM-UGpREkK"
      },
      "outputs": [],
      "source": [
        "record_sessions(agent, 'MountainCarContinuous-v0', t_max=10000, classification=False, epsilon=1.0,\n",
        "                agent_mul_fac=1.0)\n",
        "show_video('MountainCarContinuous-v0', 'test')"
      ]
    },
    {
      "cell_type": "markdown",
      "metadata": {
        "id": "qHPzTzQfREkK"
      },
      "source": [
        "Стохастическая стратегия:"
      ]
    },
    {
      "cell_type": "code",
      "execution_count": null,
      "metadata": {
        "id": "pcSZV-H6REkK"
      },
      "outputs": [],
      "source": [
        "show_video('MountainCarContinuous-v0', 'sample')"
      ]
    },
    {
      "cell_type": "markdown",
      "metadata": {
        "id": "MsYAMBT1REkK"
      },
      "source": [
        "## Обучение LunarLanderContinuous-v2"
      ]
    },
    {
      "cell_type": "code",
      "execution_count": null,
      "metadata": {
        "id": "qGjatBkqREkK"
      },
      "outputs": [],
      "source": [
        "sns.set(font_scale=1.)\n",
        "env, n_actions, _ = get_env('LunarLanderContinuous-v2', False)"
      ]
    },
    {
      "cell_type": "code",
      "execution_count": null,
      "metadata": {
        "id": "tssB1CvuREkK"
      },
      "outputs": [],
      "source": [
        "env.observation_space, env.action_space"
      ]
    },
    {
      "cell_type": "markdown",
      "metadata": {
        "id": "EyWV50c-REkK"
      },
      "source": [
        "Обучение агента:"
      ]
    },
    {
      "cell_type": "code",
      "execution_count": null,
      "metadata": {
        "id": "fheYXUKZREkK"
      },
      "outputs": [],
      "source": [
        "%%time\n",
        "\n",
        "agent, _ = < запуск функции train_agent для обучения агента >"
      ]
    },
    {
      "cell_type": "markdown",
      "metadata": {
        "id": "E5hg6KyHREkK"
      },
      "source": [
        "Детерминированная стратегия:"
      ]
    },
    {
      "cell_type": "code",
      "execution_count": null,
      "metadata": {
        "id": "SzQtI30uREkK"
      },
      "outputs": [],
      "source": [
        "record_sessions(agent, 'LunarLanderContinuous-v2', t_max=1000, classification=False, epsilon=1.0,\n",
        "                agent_mul_fac=1.0)\n",
        "show_video('LunarLanderContinuous-v2', 'test')"
      ]
    },
    {
      "cell_type": "markdown",
      "metadata": {
        "id": "DU7dqtzRREkK"
      },
      "source": [
        "Стохастическая стратегия:"
      ]
    },
    {
      "cell_type": "code",
      "execution_count": null,
      "metadata": {
        "id": "vJM_OUPAREkK"
      },
      "outputs": [],
      "source": [
        "show_video('LunarLanderContinuous-v2', 'sample')"
      ]
    },
    {
      "cell_type": "code",
      "execution_count": null,
      "metadata": {
        "id": "B_yLqjpxREkL"
      },
      "outputs": [],
      "source": []
    }
  ],
  "metadata": {
    "colab": {
      "provenance": []
    },
    "kernelspec": {
      "display_name": "Python 3",
      "language": "python",
      "name": "python3"
    },
    "language_info": {
      "codemirror_mode": {
        "name": "ipython",
        "version": 3
      },
      "file_extension": ".py",
      "mimetype": "text/x-python",
      "name": "python",
      "nbconvert_exporter": "python",
      "pygments_lexer": "ipython3",
      "version": "3.8.10"
    },
    "accelerator": "GPU",
    "gpuClass": "standard"
  },
  "nbformat": 4,
  "nbformat_minor": 0
}